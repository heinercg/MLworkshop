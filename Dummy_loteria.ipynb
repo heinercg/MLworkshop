{
  "nbformat": 4,
  "nbformat_minor": 0,
  "metadata": {
    "colab": {
      "provenance": [],
      "authorship_tag": "ABX9TyNgrpOQfBO0qe2CRdZmNAth",
      "include_colab_link": true
    },
    "kernelspec": {
      "name": "python3",
      "display_name": "Python 3"
    },
    "language_info": {
      "name": "python"
    }
  },
  "cells": [
    {
      "cell_type": "markdown",
      "metadata": {
        "id": "view-in-github",
        "colab_type": "text"
      },
      "source": [
        "<a href=\"https://colab.research.google.com/github/heinercg/MLworkshop/blob/main/Dummy_loteria.ipynb\" target=\"_parent\"><img src=\"https://colab.research.google.com/assets/colab-badge.svg\" alt=\"Open In Colab\"/></a>"
      ]
    },
    {
      "cell_type": "code",
      "execution_count": null,
      "metadata": {
        "id": "wcOBkv7zGdKO",
        "outputId": "e01b1ff0-5256-46fc-c39e-8e46bf3d3194",
        "colab": {
          "base_uri": "https://localhost:8080/"
        }
      },
      "outputs": [
        {
          "output_type": "stream",
          "name": "stdout",
          "text": [
            "El número 1234 no es ganador\n"
          ]
        }
      ],
      "source": [
        "def ganador_de_loteria(numero):\n",
        "    print(f\"El número {numero} no es ganador\")\n",
        "\n",
        "# Ejemplo de uso:\n",
        "ganador_de_loteria(1234)"
      ]
    }
  ]
}